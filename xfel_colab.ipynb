{
 "cells": [
  {
   "cell_type": "code",
   "execution_count": null,
   "metadata": {
    "collapsed": true
   },
   "outputs": [],
   "source": [
    "#These are the steps this notebook does. Use these commands in google colab to run XFELPoseGANs.\n",
    "# You can opt to run on GPU in colab by choosing it in runtime option.\n",
    "# Clone github\n",
    "# Install conda and dependencies\n",
    "# Add 3D splice protein model in fig folder\n",
    "#launch tensorboard\n",
    "#run xfel pose gan\n",
    "!git config --global user.name \"your_usernamce\"\n",
    "!git config --global user.email \"your_email\"\n",
    "!git config --global user.password \"your_password\"\n",
    "\n",
    "\n",
    "# Now first fork a repo of github repo harshit-gupta-cor/XFELPoseGAN\n",
    "token = 'generate token in github by going to settings/deveoper_settings/generate_new_token'\n",
    "username = 'your_usernamcer'\n",
    "repo = 'XFELPoseGAN'\n",
    "\n",
    "\n",
    "\n",
    "!git clone https://{token}@github.com/{username}/{repo}\n",
    "!pip install -q condacolab\n",
    "import condacolab\n",
    "condacolab.install()"
   ]
  },
  {
   "cell_type": "code",
   "execution_count": null,
   "outputs": [],
   "source": [
    "%load_ext tensorboard\n",
    "%tensorboard --logdir XFELPoseGAN/logs/"
   ],
   "metadata": {
    "collapsed": false,
    "pycharm": {
     "name": "#%%\n"
    }
   }
  },
  {
   "cell_type": "code",
   "execution_count": null,
   "outputs": [],
   "source": [
    "#Important: Download the file from https://drive.google.com/file/d/1FTEGj-6mNRpC4O3j5GFJNPHPJbScf8jB/view and place it in XFELPoseGAN/figs folder."
   ],
   "metadata": {
    "collapsed": false,
    "pycharm": {
     "name": "#%%\n"
    }
   }
  },
  {
   "cell_type": "code",
   "execution_count": null,
   "outputs": [],
   "source": [
    "#Run xfelpose gan algorithm\n",
    "# you can plcay with parameters in configs/xfel_colab_run.yaml\n",
    "# by default this yaml file runs the program on CPU.\n",
    "# You can change it by changing the device to \"cuda:0\"\n",
    "!cd XFELPoseGAN/ && python main.py --config_path configs/xfel_colab_run.yaml"
   ],
   "metadata": {
    "collapsed": false,
    "pycharm": {
     "name": "#%%\n"
    }
   }
  }
 ],
 "metadata": {
  "kernelspec": {
   "display_name": "Python 3",
   "language": "python",
   "name": "python3"
  },
  "language_info": {
   "codemirror_mode": {
    "name": "ipython",
    "version": 2
   },
   "file_extension": ".py",
   "mimetype": "text/x-python",
   "name": "python",
   "nbconvert_exporter": "python",
   "pygments_lexer": "ipython2",
   "version": "2.7.6"
  }
 },
 "nbformat": 4,
 "nbformat_minor": 0
}